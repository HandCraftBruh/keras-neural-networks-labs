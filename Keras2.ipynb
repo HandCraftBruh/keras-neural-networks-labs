{
  "nbformat": 4,
  "nbformat_minor": 0,
  "metadata": {
    "colab": {
      "provenance": [],
      "gpuType": "T4",
      "authorship_tag": "ABX9TyMKiZacJ6EmElxHw26OokIm",
      "include_colab_link": true
    },
    "kernelspec": {
      "name": "python3",
      "display_name": "Python 3"
    },
    "language_info": {
      "name": "python"
    },
    "accelerator": "GPU",
    "gpuClass": "standard"
  },
  "cells": [
    {
      "cell_type": "markdown",
      "metadata": {
        "id": "view-in-github",
        "colab_type": "text"
      },
      "source": [
        "<a href=\"https://colab.research.google.com/github/HandCraftBruh/keras-neural-networks-labs/blob/main/Keras2.ipynb\" target=\"_parent\"><img src=\"https://colab.research.google.com/assets/colab-badge.svg\" alt=\"Open In Colab\"/></a>"
      ]
    },
    {
      "cell_type": "markdown",
      "source": [
        "# Вариант 3 Кустов Александр Ум-222\n",
        "\n",
        "Сократить обучающую выборку до размеров 20 000 наблюдений,\n",
        "отобранных случайным образом из исходной обучающей\n",
        "выборки.\n",
        "Обучить НС с новой выборкой и сравнить качество обучения с\n",
        "предыдущим случаем (когда использовалась вся обучающая\n",
        "выборка)."
      ],
      "metadata": {
        "id": "GicEazvkhtq6"
      }
    },
    {
      "cell_type": "code",
      "source": [
        "import numpy as np\n",
        "import matplotlib.pyplot as plt\n",
        "from tensorflow.keras.datasets import mnist\n",
        "from tensorflow import keras\n",
        "from tensorflow.keras.layers import Dense, Flatten"
      ],
      "metadata": {
        "id": "RdYywFM-hvzn"
      },
      "execution_count": 24,
      "outputs": []
    },
    {
      "cell_type": "code",
      "source": [
        "(x_train, y_train), (x_test, y_test) = mnist.load_data()\n",
        "idx = np.random.choice(np.arange(x_train.shape[0]), size=20000)\n",
        "x_rd_train = x_train[idx]\n",
        "y_rd_train = y_train[idx]"
      ],
      "metadata": {
        "id": "zr1JBLZxilNP"
      },
      "execution_count": 25,
      "outputs": []
    },
    {
      "cell_type": "code",
      "source": [
        "x_train = x_train / 255\n",
        "x_test = x_test / 255\n",
        "\n",
        "x_rd_train = x_rd_train / 255\n",
        "x_dub_test = x_test"
      ],
      "metadata": {
        "id": "6hbE3C5Gi0KP"
      },
      "execution_count": 26,
      "outputs": []
    },
    {
      "cell_type": "code",
      "source": [
        "y_train_cat = keras.utils.to_categorical(y_train, 10)\n",
        "y_test_cat = keras.utils.to_categorical(y_test, 10)\n",
        "\n",
        "y_rd_train_cat = keras.utils.to_categorical(y_rd_train, 10)\n",
        "y_dub_test_cat = y_test_cat"
      ],
      "metadata": {
        "id": "g1KQge7mi4VX"
      },
      "execution_count": 27,
      "outputs": []
    },
    {
      "cell_type": "code",
      "source": [
        "model = keras.Sequential([\n",
        " Flatten(input_shape=(28, 28, 1)),\n",
        " Dense(128, activation='relu'),\n",
        " Dense(10, activation='softmax')\n",
        "])"
      ],
      "metadata": {
        "id": "NE9urg_KttYT"
      },
      "execution_count": 28,
      "outputs": []
    },
    {
      "cell_type": "code",
      "source": [
        "model.compile(optimizer='adam',\n",
        "loss='categorical_crossentropy',\n",
        "metrics=['accuracy'])"
      ],
      "metadata": {
        "id": "lZ9B9BM3i7zv"
      },
      "execution_count": 29,
      "outputs": []
    },
    {
      "cell_type": "code",
      "source": [
        "model.fit(x_train, y_train_cat, batch_size=32, epochs=10,\n",
        "validation_split=0.2)\n",
        "\n",
        "model.evaluate(x_test, y_test_cat)"
      ],
      "metadata": {
        "id": "Xe9O6m3Oi9oH",
        "outputId": "0fe27784-af51-4cb6-d328-93edefb73b2d",
        "colab": {
          "base_uri": "https://localhost:8080/"
        }
      },
      "execution_count": 33,
      "outputs": [
        {
          "output_type": "stream",
          "name": "stdout",
          "text": [
            "Epoch 1/10\n",
            "1500/1500 [==============================] - 6s 4ms/step - loss: 0.0293 - accuracy: 0.9905 - val_loss: 0.0812 - val_accuracy: 0.9795\n",
            "Epoch 2/10\n",
            "1500/1500 [==============================] - 4s 3ms/step - loss: 0.0102 - accuracy: 0.9968 - val_loss: 0.0789 - val_accuracy: 0.9813\n",
            "Epoch 3/10\n",
            "1500/1500 [==============================] - 4s 3ms/step - loss: 0.0082 - accuracy: 0.9975 - val_loss: 0.0851 - val_accuracy: 0.9790\n",
            "Epoch 4/10\n",
            "1500/1500 [==============================] - 5s 3ms/step - loss: 0.0085 - accuracy: 0.9974 - val_loss: 0.0969 - val_accuracy: 0.9778\n",
            "Epoch 5/10\n",
            "1500/1500 [==============================] - 4s 3ms/step - loss: 0.0065 - accuracy: 0.9981 - val_loss: 0.0983 - val_accuracy: 0.9770\n",
            "Epoch 6/10\n",
            "1500/1500 [==============================] - 4s 3ms/step - loss: 0.0076 - accuracy: 0.9978 - val_loss: 0.0983 - val_accuracy: 0.9774\n",
            "Epoch 7/10\n",
            "1500/1500 [==============================] - 6s 4ms/step - loss: 0.0049 - accuracy: 0.9985 - val_loss: 0.1136 - val_accuracy: 0.9763\n",
            "Epoch 8/10\n",
            "1500/1500 [==============================] - 4s 3ms/step - loss: 0.0054 - accuracy: 0.9984 - val_loss: 0.1233 - val_accuracy: 0.9747\n",
            "Epoch 9/10\n",
            "1500/1500 [==============================] - 5s 3ms/step - loss: 0.0040 - accuracy: 0.9988 - val_loss: 0.1060 - val_accuracy: 0.9791\n",
            "Epoch 10/10\n",
            "1500/1500 [==============================] - 5s 3ms/step - loss: 0.0058 - accuracy: 0.9979 - val_loss: 0.1142 - val_accuracy: 0.9759\n",
            "313/313 [==============================] - 1s 2ms/step - loss: 0.1299 - accuracy: 0.9755\n"
          ]
        },
        {
          "output_type": "execute_result",
          "data": {
            "text/plain": [
              "[0.12985900044441223, 0.9754999876022339]"
            ]
          },
          "metadata": {},
          "execution_count": 33
        }
      ]
    },
    {
      "cell_type": "code",
      "source": [
        "model.fit(x_rd_train, y_rd_train_cat, batch_size=32, epochs=10,\n",
        "validation_split=0.2)\n",
        "\n",
        "model.evaluate(x_dub_test, y_dub_test_cat)"
      ],
      "metadata": {
        "id": "K_rcKLnLEPmB",
        "outputId": "e0bb2194-5dde-461d-9497-fa1f8bd95ff8",
        "colab": {
          "base_uri": "https://localhost:8080/"
        }
      },
      "execution_count": 34,
      "outputs": [
        {
          "output_type": "stream",
          "name": "stdout",
          "text": [
            "Epoch 1/10\n",
            "500/500 [==============================] - 2s 3ms/step - loss: 0.0219 - accuracy: 0.9941 - val_loss: 0.0276 - val_accuracy: 0.9935\n",
            "Epoch 2/10\n",
            "500/500 [==============================] - 2s 3ms/step - loss: 0.0055 - accuracy: 0.9986 - val_loss: 0.0222 - val_accuracy: 0.9962\n",
            "Epoch 3/10\n",
            "500/500 [==============================] - 1s 3ms/step - loss: 0.0020 - accuracy: 0.9993 - val_loss: 0.0201 - val_accuracy: 0.9965\n",
            "Epoch 4/10\n",
            "500/500 [==============================] - 2s 3ms/step - loss: 3.5445e-04 - accuracy: 1.0000 - val_loss: 0.0189 - val_accuracy: 0.9973\n",
            "Epoch 5/10\n",
            "500/500 [==============================] - 2s 4ms/step - loss: 1.7544e-04 - accuracy: 1.0000 - val_loss: 0.0180 - val_accuracy: 0.9973\n",
            "Epoch 6/10\n",
            "500/500 [==============================] - 2s 4ms/step - loss: 1.3660e-04 - accuracy: 1.0000 - val_loss: 0.0180 - val_accuracy: 0.9973\n",
            "Epoch 7/10\n",
            "500/500 [==============================] - 1s 3ms/step - loss: 1.1640e-04 - accuracy: 1.0000 - val_loss: 0.0178 - val_accuracy: 0.9973\n",
            "Epoch 8/10\n",
            "500/500 [==============================] - 2s 3ms/step - loss: 9.8352e-05 - accuracy: 1.0000 - val_loss: 0.0179 - val_accuracy: 0.9973\n",
            "Epoch 9/10\n",
            "500/500 [==============================] - 1s 3ms/step - loss: 8.4527e-05 - accuracy: 1.0000 - val_loss: 0.0178 - val_accuracy: 0.9970\n",
            "Epoch 10/10\n",
            "500/500 [==============================] - 1s 3ms/step - loss: 7.2805e-05 - accuracy: 1.0000 - val_loss: 0.0179 - val_accuracy: 0.9967\n",
            "313/313 [==============================] - 1s 3ms/step - loss: 0.1153 - accuracy: 0.9792\n"
          ]
        },
        {
          "output_type": "execute_result",
          "data": {
            "text/plain": [
              "[0.11526831239461899, 0.979200005531311]"
            ]
          },
          "metadata": {},
          "execution_count": 34
        }
      ]
    }
  ]
}